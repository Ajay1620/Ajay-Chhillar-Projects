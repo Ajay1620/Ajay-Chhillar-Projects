{
 "cells": [
  {
   "cell_type": "code",
   "execution_count": 11,
   "metadata": {},
   "outputs": [],
   "source": [
    "import pandas as pd\n",
    "import numpy as np\n",
    "from sklearn.model_selection import train_test_split\n",
    "from sklearn.preprocessing import StandardScaler\n",
    "from sklearn.neighbors import KNeighborsClassifier\n",
    "from sklearn.metrics import confusion_matrix\n",
    "from sklearn.metrics import f1_score\n",
    "from sklearn.metrics import accuracy_score"
   ]
  },
  {
   "cell_type": "code",
   "execution_count": 2,
   "metadata": {},
   "outputs": [
    {
     "data": {
      "text/plain": [
       "(768, 9)"
      ]
     },
     "execution_count": 2,
     "metadata": {},
     "output_type": "execute_result"
    }
   ],
   "source": [
    "dataset = pd.read_csv(\"C:\\\\Users\\\\AJAY\\\\Desktop\\\\diabetes.csv\")\n",
    "dataset.shape"
   ]
  },
  {
   "cell_type": "code",
   "execution_count": 3,
   "metadata": {},
   "outputs": [
    {
     "name": "stdout",
     "output_type": "stream",
     "text": [
      "<class 'pandas.core.frame.DataFrame'>\n",
      "RangeIndex: 768 entries, 0 to 767\n",
      "Data columns (total 9 columns):\n",
      "Pregnancies                 768 non-null int64\n",
      "Glucose                     768 non-null int64\n",
      "BloodPressure               768 non-null int64\n",
      "SkinThickness               768 non-null int64\n",
      "Insulin                     768 non-null int64\n",
      "BMI                         768 non-null float64\n",
      "DiabetesPedigreeFunction    768 non-null float64\n",
      "Age                         768 non-null int64\n",
      "Outcome                     768 non-null int64\n",
      "dtypes: float64(2), int64(7)\n",
      "memory usage: 54.1 KB\n"
     ]
    }
   ],
   "source": [
    "dataset.info()"
   ]
  },
  {
   "cell_type": "code",
   "execution_count": 4,
   "metadata": {},
   "outputs": [
    {
     "data": {
      "text/html": [
       "<div>\n",
       "<style scoped>\n",
       "    .dataframe tbody tr th:only-of-type {\n",
       "        vertical-align: middle;\n",
       "    }\n",
       "\n",
       "    .dataframe tbody tr th {\n",
       "        vertical-align: top;\n",
       "    }\n",
       "\n",
       "    .dataframe thead th {\n",
       "        text-align: right;\n",
       "    }\n",
       "</style>\n",
       "<table border=\"1\" class=\"dataframe\">\n",
       "  <thead>\n",
       "    <tr style=\"text-align: right;\">\n",
       "      <th></th>\n",
       "      <th>Pregnancies</th>\n",
       "      <th>Glucose</th>\n",
       "      <th>BloodPressure</th>\n",
       "      <th>SkinThickness</th>\n",
       "      <th>Insulin</th>\n",
       "      <th>BMI</th>\n",
       "      <th>DiabetesPedigreeFunction</th>\n",
       "      <th>Age</th>\n",
       "      <th>Outcome</th>\n",
       "    </tr>\n",
       "  </thead>\n",
       "  <tbody>\n",
       "    <tr>\n",
       "      <th>0</th>\n",
       "      <td>6</td>\n",
       "      <td>148</td>\n",
       "      <td>72</td>\n",
       "      <td>35</td>\n",
       "      <td>0</td>\n",
       "      <td>33.6</td>\n",
       "      <td>0.627</td>\n",
       "      <td>50</td>\n",
       "      <td>1</td>\n",
       "    </tr>\n",
       "    <tr>\n",
       "      <th>1</th>\n",
       "      <td>1</td>\n",
       "      <td>85</td>\n",
       "      <td>66</td>\n",
       "      <td>29</td>\n",
       "      <td>0</td>\n",
       "      <td>26.6</td>\n",
       "      <td>0.351</td>\n",
       "      <td>31</td>\n",
       "      <td>0</td>\n",
       "    </tr>\n",
       "    <tr>\n",
       "      <th>2</th>\n",
       "      <td>8</td>\n",
       "      <td>183</td>\n",
       "      <td>64</td>\n",
       "      <td>0</td>\n",
       "      <td>0</td>\n",
       "      <td>23.3</td>\n",
       "      <td>0.672</td>\n",
       "      <td>32</td>\n",
       "      <td>1</td>\n",
       "    </tr>\n",
       "    <tr>\n",
       "      <th>3</th>\n",
       "      <td>1</td>\n",
       "      <td>89</td>\n",
       "      <td>66</td>\n",
       "      <td>23</td>\n",
       "      <td>94</td>\n",
       "      <td>28.1</td>\n",
       "      <td>0.167</td>\n",
       "      <td>21</td>\n",
       "      <td>0</td>\n",
       "    </tr>\n",
       "    <tr>\n",
       "      <th>4</th>\n",
       "      <td>0</td>\n",
       "      <td>137</td>\n",
       "      <td>40</td>\n",
       "      <td>35</td>\n",
       "      <td>168</td>\n",
       "      <td>43.1</td>\n",
       "      <td>2.288</td>\n",
       "      <td>33</td>\n",
       "      <td>1</td>\n",
       "    </tr>\n",
       "  </tbody>\n",
       "</table>\n",
       "</div>"
      ],
      "text/plain": [
       "   Pregnancies  Glucose  BloodPressure  SkinThickness  Insulin   BMI  \\\n",
       "0            6      148             72             35        0  33.6   \n",
       "1            1       85             66             29        0  26.6   \n",
       "2            8      183             64              0        0  23.3   \n",
       "3            1       89             66             23       94  28.1   \n",
       "4            0      137             40             35      168  43.1   \n",
       "\n",
       "   DiabetesPedigreeFunction  Age  Outcome  \n",
       "0                     0.627   50        1  \n",
       "1                     0.351   31        0  \n",
       "2                     0.672   32        1  \n",
       "3                     0.167   21        0  \n",
       "4                     2.288   33        1  "
      ]
     },
     "execution_count": 4,
     "metadata": {},
     "output_type": "execute_result"
    }
   ],
   "source": [
    "dataset.head()"
   ]
  },
  {
   "cell_type": "code",
   "execution_count": 5,
   "metadata": {},
   "outputs": [],
   "source": [
    "# Replace zeroes\n",
    "zero_not_accepted = ['Glucose','BloodPressure','SkinThickness','BMI','Insulin']\n",
    "for column in zero_not_accepted:\n",
    "    dataset[column] = dataset[column].replace(0,np.NaN)\n",
    "    mean = int(dataset[column].mean(skipna = True))\n",
    "    dataset[column] = dataset[column].replace(np.NaN, mean)\n"
   ]
  },
  {
   "cell_type": "code",
   "execution_count": 6,
   "metadata": {},
   "outputs": [
    {
     "name": "stdout",
     "output_type": "stream",
     "text": [
      "0      148.0\n",
      "1       85.0\n",
      "2      183.0\n",
      "3       89.0\n",
      "4      137.0\n",
      "5      116.0\n",
      "6       78.0\n",
      "7      115.0\n",
      "8      197.0\n",
      "9      125.0\n",
      "10     110.0\n",
      "11     168.0\n",
      "12     139.0\n",
      "13     189.0\n",
      "14     166.0\n",
      "15     100.0\n",
      "16     118.0\n",
      "17     107.0\n",
      "18     103.0\n",
      "19     115.0\n",
      "20     126.0\n",
      "21      99.0\n",
      "22     196.0\n",
      "23     119.0\n",
      "24     143.0\n",
      "25     125.0\n",
      "26     147.0\n",
      "27      97.0\n",
      "28     145.0\n",
      "29     117.0\n",
      "       ...  \n",
      "738     99.0\n",
      "739    102.0\n",
      "740    120.0\n",
      "741    102.0\n",
      "742    109.0\n",
      "743    140.0\n",
      "744    153.0\n",
      "745    100.0\n",
      "746    147.0\n",
      "747     81.0\n",
      "748    187.0\n",
      "749    162.0\n",
      "750    136.0\n",
      "751    121.0\n",
      "752    108.0\n",
      "753    181.0\n",
      "754    154.0\n",
      "755    128.0\n",
      "756    137.0\n",
      "757    123.0\n",
      "758    106.0\n",
      "759    190.0\n",
      "760     88.0\n",
      "761    170.0\n",
      "762     89.0\n",
      "763    101.0\n",
      "764    122.0\n",
      "765    121.0\n",
      "766    126.0\n",
      "767     93.0\n",
      "Name: Glucose, Length: 768, dtype: float64\n"
     ]
    }
   ],
   "source": [
    "print(dataset['Glucose'])"
   ]
  },
  {
   "cell_type": "code",
   "execution_count": 7,
   "metadata": {},
   "outputs": [
    {
     "name": "stdout",
     "output_type": "stream",
     "text": [
      "     Pregnancies  Glucose  BloodPressure  SkinThickness  Insulin   BMI  \\\n",
      "0              6    148.0           72.0           35.0    155.0  33.6   \n",
      "1              1     85.0           66.0           29.0    155.0  26.6   \n",
      "2              8    183.0           64.0           29.0    155.0  23.3   \n",
      "3              1     89.0           66.0           23.0     94.0  28.1   \n",
      "4              0    137.0           40.0           35.0    168.0  43.1   \n",
      "5              5    116.0           74.0           29.0    155.0  25.6   \n",
      "6              3     78.0           50.0           32.0     88.0  31.0   \n",
      "7             10    115.0           72.0           29.0    155.0  35.3   \n",
      "8              2    197.0           70.0           45.0    543.0  30.5   \n",
      "9              8    125.0           96.0           29.0    155.0  32.0   \n",
      "10             4    110.0           92.0           29.0    155.0  37.6   \n",
      "11            10    168.0           74.0           29.0    155.0  38.0   \n",
      "12            10    139.0           80.0           29.0    155.0  27.1   \n",
      "13             1    189.0           60.0           23.0    846.0  30.1   \n",
      "14             5    166.0           72.0           19.0    175.0  25.8   \n",
      "15             7    100.0           72.0           29.0    155.0  30.0   \n",
      "16             0    118.0           84.0           47.0    230.0  45.8   \n",
      "17             7    107.0           74.0           29.0    155.0  29.6   \n",
      "18             1    103.0           30.0           38.0     83.0  43.3   \n",
      "19             1    115.0           70.0           30.0     96.0  34.6   \n",
      "20             3    126.0           88.0           41.0    235.0  39.3   \n",
      "21             8     99.0           84.0           29.0    155.0  35.4   \n",
      "22             7    196.0           90.0           29.0    155.0  39.8   \n",
      "23             9    119.0           80.0           35.0    155.0  29.0   \n",
      "24            11    143.0           94.0           33.0    146.0  36.6   \n",
      "25            10    125.0           70.0           26.0    115.0  31.1   \n",
      "26             7    147.0           76.0           29.0    155.0  39.4   \n",
      "27             1     97.0           66.0           15.0    140.0  23.2   \n",
      "28            13    145.0           82.0           19.0    110.0  22.2   \n",
      "29             5    117.0           92.0           29.0    155.0  34.1   \n",
      "..           ...      ...            ...            ...      ...   ...   \n",
      "738            2     99.0           60.0           17.0    160.0  36.6   \n",
      "739            1    102.0           74.0           29.0    155.0  39.5   \n",
      "740           11    120.0           80.0           37.0    150.0  42.3   \n",
      "741            3    102.0           44.0           20.0     94.0  30.8   \n",
      "742            1    109.0           58.0           18.0    116.0  28.5   \n",
      "743            9    140.0           94.0           29.0    155.0  32.7   \n",
      "744           13    153.0           88.0           37.0    140.0  40.6   \n",
      "745           12    100.0           84.0           33.0    105.0  30.0   \n",
      "746            1    147.0           94.0           41.0    155.0  49.3   \n",
      "747            1     81.0           74.0           41.0     57.0  46.3   \n",
      "748            3    187.0           70.0           22.0    200.0  36.4   \n",
      "749            6    162.0           62.0           29.0    155.0  24.3   \n",
      "750            4    136.0           70.0           29.0    155.0  31.2   \n",
      "751            1    121.0           78.0           39.0     74.0  39.0   \n",
      "752            3    108.0           62.0           24.0    155.0  26.0   \n",
      "753            0    181.0           88.0           44.0    510.0  43.3   \n",
      "754            8    154.0           78.0           32.0    155.0  32.4   \n",
      "755            1    128.0           88.0           39.0    110.0  36.5   \n",
      "756            7    137.0           90.0           41.0    155.0  32.0   \n",
      "757            0    123.0           72.0           29.0    155.0  36.3   \n",
      "758            1    106.0           76.0           29.0    155.0  37.5   \n",
      "759            6    190.0           92.0           29.0    155.0  35.5   \n",
      "760            2     88.0           58.0           26.0     16.0  28.4   \n",
      "761            9    170.0           74.0           31.0    155.0  44.0   \n",
      "762            9     89.0           62.0           29.0    155.0  22.5   \n",
      "763           10    101.0           76.0           48.0    180.0  32.9   \n",
      "764            2    122.0           70.0           27.0    155.0  36.8   \n",
      "765            5    121.0           72.0           23.0    112.0  26.2   \n",
      "766            1    126.0           60.0           29.0    155.0  30.1   \n",
      "767            1     93.0           70.0           31.0    155.0  30.4   \n",
      "\n",
      "     DiabetesPedigreeFunction  Age  \n",
      "0                       0.627   50  \n",
      "1                       0.351   31  \n",
      "2                       0.672   32  \n",
      "3                       0.167   21  \n",
      "4                       2.288   33  \n",
      "5                       0.201   30  \n",
      "6                       0.248   26  \n",
      "7                       0.134   29  \n",
      "8                       0.158   53  \n",
      "9                       0.232   54  \n",
      "10                      0.191   30  \n",
      "11                      0.537   34  \n",
      "12                      1.441   57  \n",
      "13                      0.398   59  \n",
      "14                      0.587   51  \n",
      "15                      0.484   32  \n",
      "16                      0.551   31  \n",
      "17                      0.254   31  \n",
      "18                      0.183   33  \n",
      "19                      0.529   32  \n",
      "20                      0.704   27  \n",
      "21                      0.388   50  \n",
      "22                      0.451   41  \n",
      "23                      0.263   29  \n",
      "24                      0.254   51  \n",
      "25                      0.205   41  \n",
      "26                      0.257   43  \n",
      "27                      0.487   22  \n",
      "28                      0.245   57  \n",
      "29                      0.337   38  \n",
      "..                        ...  ...  \n",
      "738                     0.453   21  \n",
      "739                     0.293   42  \n",
      "740                     0.785   48  \n",
      "741                     0.400   26  \n",
      "742                     0.219   22  \n",
      "743                     0.734   45  \n",
      "744                     1.174   39  \n",
      "745                     0.488   46  \n",
      "746                     0.358   27  \n",
      "747                     1.096   32  \n",
      "748                     0.408   36  \n",
      "749                     0.178   50  \n",
      "750                     1.182   22  \n",
      "751                     0.261   28  \n",
      "752                     0.223   25  \n",
      "753                     0.222   26  \n",
      "754                     0.443   45  \n",
      "755                     1.057   37  \n",
      "756                     0.391   39  \n",
      "757                     0.258   52  \n",
      "758                     0.197   26  \n",
      "759                     0.278   66  \n",
      "760                     0.766   22  \n",
      "761                     0.403   43  \n",
      "762                     0.142   33  \n",
      "763                     0.171   63  \n",
      "764                     0.340   27  \n",
      "765                     0.245   30  \n",
      "766                     0.349   47  \n",
      "767                     0.315   23  \n",
      "\n",
      "[768 rows x 8 columns]\n"
     ]
    }
   ],
   "source": [
    "# split dataest\n",
    "X = dataset.iloc[:,0:8]\n",
    "# Just Checking X values\n",
    "print(X)"
   ]
  },
  {
   "cell_type": "code",
   "execution_count": 8,
   "metadata": {},
   "outputs": [
    {
     "name": "stdout",
     "output_type": "stream",
     "text": [
      "0      1\n",
      "1      0\n",
      "2      1\n",
      "3      0\n",
      "4      1\n",
      "5      0\n",
      "6      1\n",
      "7      0\n",
      "8      1\n",
      "9      1\n",
      "10     0\n",
      "11     1\n",
      "12     0\n",
      "13     1\n",
      "14     1\n",
      "15     1\n",
      "16     1\n",
      "17     1\n",
      "18     0\n",
      "19     1\n",
      "20     0\n",
      "21     0\n",
      "22     1\n",
      "23     1\n",
      "24     1\n",
      "25     1\n",
      "26     1\n",
      "27     0\n",
      "28     0\n",
      "29     0\n",
      "      ..\n",
      "738    0\n",
      "739    1\n",
      "740    1\n",
      "741    0\n",
      "742    0\n",
      "743    1\n",
      "744    0\n",
      "745    0\n",
      "746    1\n",
      "747    0\n",
      "748    1\n",
      "749    1\n",
      "750    1\n",
      "751    0\n",
      "752    0\n",
      "753    1\n",
      "754    1\n",
      "755    1\n",
      "756    0\n",
      "757    1\n",
      "758    0\n",
      "759    1\n",
      "760    0\n",
      "761    1\n",
      "762    0\n",
      "763    0\n",
      "764    0\n",
      "765    0\n",
      "766    1\n",
      "767    0\n",
      "Name: Outcome, Length: 768, dtype: int64\n"
     ]
    }
   ],
   "source": [
    "y = dataset.iloc[:,8]\n",
    "print(y)"
   ]
  },
  {
   "cell_type": "code",
   "execution_count": 12,
   "metadata": {},
   "outputs": [],
   "source": [
    "X_train, X_test, y_train, y_test = train_test_split(X, y, random_state = 0, test_size = 0.2)\n",
    "sc_X = StandardScaler()\n",
    "X_train = sc_X.fit_transform(X_train)\n",
    "X_test = sc_X.transform(X_test)"
   ]
  },
  {
   "cell_type": "code",
   "execution_count": 16,
   "metadata": {},
   "outputs": [
    {
     "data": {
      "text/plain": [
       "KNeighborsClassifier(algorithm='auto', leaf_size=30, metric='euclidean',\n",
       "           metric_params=None, n_jobs=1, n_neighbors=11, p=2,\n",
       "           weights='uniform')"
      ]
     },
     "execution_count": 16,
     "metadata": {},
     "output_type": "execute_result"
    }
   ],
   "source": [
    "import math\n",
    "math.sqrt(len(y_train))\n",
    "# It get output 12 it is even so we set n_neighbors = 11\n",
    "# Define the model KNN\n",
    "classifier = KNeighborsClassifier(n_neighbors=11, p=2, metric='euclidean')\n",
    "# Fit model\n",
    "classifier.fit(X_train,y_train)\n"
   ]
  },
  {
   "cell_type": "code",
   "execution_count": 17,
   "metadata": {},
   "outputs": [
    {
     "data": {
      "text/plain": [
       "array([1, 0, 0, 1, 0, 0, 1, 1, 0, 0, 1, 1, 0, 0, 0, 0, 1, 0, 0, 0, 1, 0,\n",
       "       0, 0, 0, 0, 0, 1, 0, 0, 1, 0, 0, 1, 0, 1, 0, 0, 0, 1, 0, 0, 0, 1,\n",
       "       1, 0, 0, 0, 0, 0, 1, 0, 1, 1, 0, 0, 0, 1, 0, 1, 1, 0, 0, 1, 1, 1,\n",
       "       1, 0, 0, 0, 0, 0, 0, 1, 1, 0, 0, 1, 0, 0, 0, 0, 0, 0, 0, 0, 0, 0,\n",
       "       1, 0, 0, 0, 0, 0, 1, 0, 0, 1, 1, 1, 0, 0, 0, 0, 1, 1, 0, 1, 0, 1,\n",
       "       0, 0, 1, 1, 1, 1, 0, 0, 0, 1, 0, 0, 0, 0, 0, 0, 0, 0, 0, 0, 0, 0,\n",
       "       0, 0, 0, 1, 0, 0, 0, 0, 0, 1, 0, 0, 1, 0, 0, 0, 0, 0, 0, 0, 0, 0],\n",
       "      dtype=int64)"
      ]
     },
     "execution_count": 17,
     "metadata": {},
     "output_type": "execute_result"
    }
   ],
   "source": [
    "# Predict the test set results\n",
    "y_pred = classifier.predict(X_test)\n",
    "y_pred"
   ]
  },
  {
   "cell_type": "code",
   "execution_count": 18,
   "metadata": {},
   "outputs": [
    {
     "name": "stdout",
     "output_type": "stream",
     "text": [
      "[[94 13]\n",
      " [15 32]]\n"
     ]
    }
   ],
   "source": [
    "# Evaluate the model\n",
    "cm = confusion_matrix(y_test,y_pred)\n",
    "print(cm)"
   ]
  },
  {
   "cell_type": "code",
   "execution_count": 19,
   "metadata": {},
   "outputs": [
    {
     "name": "stdout",
     "output_type": "stream",
     "text": [
      "0.6956521739130436\n"
     ]
    }
   ],
   "source": [
    "print(f1_score(y_test, y_pred))"
   ]
  },
  {
   "cell_type": "code",
   "execution_count": 22,
   "metadata": {},
   "outputs": [
    {
     "name": "stdout",
     "output_type": "stream",
     "text": [
      "0.8181818181818182\n"
     ]
    }
   ],
   "source": [
    "print(accuracy_score(y_test, y_pred))"
   ]
  },
  {
   "cell_type": "code",
   "execution_count": null,
   "metadata": {},
   "outputs": [],
   "source": []
  }
 ],
 "metadata": {
  "kernelspec": {
   "display_name": "Python 3",
   "language": "python",
   "name": "python3"
  },
  "language_info": {
   "codemirror_mode": {
    "name": "ipython",
    "version": 3
   },
   "file_extension": ".py",
   "mimetype": "text/x-python",
   "name": "python",
   "nbconvert_exporter": "python",
   "pygments_lexer": "ipython3",
   "version": "3.6.5"
  }
 },
 "nbformat": 4,
 "nbformat_minor": 2
}
